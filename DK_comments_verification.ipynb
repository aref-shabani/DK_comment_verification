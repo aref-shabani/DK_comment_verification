{
  "nbformat": 4,
  "nbformat_minor": 0,
  "metadata": {
    "colab": {
      "name": "DK_comments_verification.ipynb",
      "provenance": [],
      "collapsed_sections": [],
      "mount_file_id": "18ZvewmXIU5WwscX51ZFVuMwsJ7ATkurC",
      "authorship_tag": "ABX9TyPrq5Md8XDH/b3RaxsK4lcE",
      "include_colab_link": true
    },
    "kernelspec": {
      "name": "python3",
      "display_name": "Python 3"
    }
  },
  "cells": [
    {
      "cell_type": "markdown",
      "metadata": {
        "id": "view-in-github",
        "colab_type": "text"
      },
      "source": [
        "<a href=\"https://colab.research.google.com/github/aref-shabani/DK_comment_verification/blob/main/DK_comments_verification.ipynb\" target=\"_parent\"><img src=\"https://colab.research.google.com/assets/colab-badge.svg\" alt=\"Open In Colab\"/></a>"
      ]
    },
    {
      "cell_type": "markdown",
      "metadata": {
        "id": "FkpoiFF8hWqT"
      },
      "source": [
        "# **Persian semtiment and verification comments**"
      ]
    },
    {
      "cell_type": "markdown",
      "metadata": {
        "id": "1cwgM7WrhrcB"
      },
      "source": [
        "## Import libraries"
      ]
    },
    {
      "cell_type": "code",
      "metadata": {
        "colab": {
          "base_uri": "https://localhost:8080/"
        },
        "id": "p4CoFy8TdSp-",
        "outputId": "4d826da5-d5c5-48bd-f5c3-8f90e0c7332d"
      },
      "source": [
        "from __future__ import unicode_literals\n",
        "\n",
        "import pandas as pd\n",
        "import numpy as np\n",
        "import matplotlib.pyplot as plt\n",
        "import seaborn as sns\n",
        "\n",
        "\n",
        "\n",
        "import string\n",
        "# Install and import hazm library\n",
        "!pip install hazm\n",
        "import hazm \n",
        "\n",
        "%matplotlib inline\n",
        "pd.set_option('display.max_rows', 50)"
      ],
      "execution_count": 1,
      "outputs": [
        {
          "output_type": "stream",
          "text": [
            "Collecting hazm\n",
            "\u001b[?25l  Downloading https://files.pythonhosted.org/packages/22/13/5a7074bc11d20dbbb46239349ac3f85f7edc148b4cf68e9b8c2f8263830c/hazm-0.7.0-py3-none-any.whl (316kB)\n",
            "\u001b[K     |████████████████████████████████| 317kB 13.2MB/s \n",
            "\u001b[?25hCollecting libwapiti>=0.2.1; platform_system != \"Windows\"\n",
            "\u001b[?25l  Downloading https://files.pythonhosted.org/packages/bc/0f/1c9b49bb49821b5856a64ea6fac8d96a619b9f291d1f06999ea98a32c89c/libwapiti-0.2.1.tar.gz (233kB)\n",
            "\u001b[K     |████████████████████████████████| 235kB 25.7MB/s \n",
            "\u001b[?25hCollecting nltk==3.3\n",
            "\u001b[?25l  Downloading https://files.pythonhosted.org/packages/50/09/3b1755d528ad9156ee7243d52aa5cd2b809ef053a0f31b53d92853dd653a/nltk-3.3.0.zip (1.4MB)\n",
            "\u001b[K     |████████████████████████████████| 1.4MB 31.5MB/s \n",
            "\u001b[?25hRequirement already satisfied: six in /usr/local/lib/python3.6/dist-packages (from libwapiti>=0.2.1; platform_system != \"Windows\"->hazm) (1.15.0)\n",
            "Building wheels for collected packages: libwapiti, nltk\n",
            "  Building wheel for libwapiti (setup.py) ... \u001b[?25l\u001b[?25hdone\n",
            "  Created wheel for libwapiti: filename=libwapiti-0.2.1-cp36-cp36m-linux_x86_64.whl size=154762 sha256=2ae7409e12b042529e32aaec03e864f864e5c86af092116acb8dec0352deeffb\n",
            "  Stored in directory: /root/.cache/pip/wheels/66/15/54/4510dce8bb958b1cdd2c47425cbd1e1eecc0480ac9bb1fb9ab\n",
            "  Building wheel for nltk (setup.py) ... \u001b[?25l\u001b[?25hdone\n",
            "  Created wheel for nltk: filename=nltk-3.3-cp36-none-any.whl size=1394467 sha256=b19b565ff48c2794651b10018d3a4a0b9beaab2e791d77f1991f2b9d3b71a91b\n",
            "  Stored in directory: /root/.cache/pip/wheels/d1/ab/40/3bceea46922767e42986aef7606a600538ca80de6062dc266c\n",
            "Successfully built libwapiti nltk\n",
            "Installing collected packages: libwapiti, nltk, hazm\n",
            "  Found existing installation: nltk 3.2.5\n",
            "    Uninstalling nltk-3.2.5:\n",
            "      Successfully uninstalled nltk-3.2.5\n",
            "Successfully installed hazm-0.7.0 libwapiti-0.2.1 nltk-3.3\n"
          ],
          "name": "stdout"
        }
      ]
    },
    {
      "cell_type": "markdown",
      "metadata": {
        "id": "zo4kuDSbh8I5"
      },
      "source": [
        "## Read and understand our data"
      ]
    },
    {
      "cell_type": "code",
      "metadata": {
        "id": "UurMuluXdiur"
      },
      "source": [
        "df_train = pd.read_csv(\"/content/drive/MyDrive/Colab Notebooks/train_users.csv\")"
      ],
      "execution_count": 5,
      "outputs": []
    },
    {
      "cell_type": "code",
      "metadata": {
        "colab": {
          "base_uri": "https://localhost:8080/",
          "height": 289
        },
        "id": "CzBlAkxlhCHb",
        "outputId": "5c331a40-9294-4a7a-e808-e4f3e283a354"
      },
      "source": [
        "df_train.head(5)"
      ],
      "execution_count": 7,
      "outputs": [
        {
          "output_type": "execute_result",
          "data": {
            "text/html": [
              "<div>\n",
              "<style scoped>\n",
              "    .dataframe tbody tr th:only-of-type {\n",
              "        vertical-align: middle;\n",
              "    }\n",
              "\n",
              "    .dataframe tbody tr th {\n",
              "        vertical-align: top;\n",
              "    }\n",
              "\n",
              "    .dataframe thead th {\n",
              "        text-align: right;\n",
              "    }\n",
              "</style>\n",
              "<table border=\"1\" class=\"dataframe\">\n",
              "  <thead>\n",
              "    <tr style=\"text-align: right;\">\n",
              "      <th></th>\n",
              "      <th>id</th>\n",
              "      <th>title</th>\n",
              "      <th>comment</th>\n",
              "      <th>advantages</th>\n",
              "      <th>disadvantages</th>\n",
              "      <th>title_fa_product</th>\n",
              "      <th>title_fa_category</th>\n",
              "      <th>is_buyer</th>\n",
              "      <th>verification_status</th>\n",
              "      <th>rate</th>\n",
              "    </tr>\n",
              "  </thead>\n",
              "  <tbody>\n",
              "    <tr>\n",
              "      <th>0</th>\n",
              "      <td>0</td>\n",
              "      <td>NaN</td>\n",
              "      <td>مثل بقیه محصولات الکل دار پوست رو خشک نمیکنه</td>\n",
              "      <td>NaN</td>\n",
              "      <td>NaN</td>\n",
              "      <td>ژل ضد عفونی کننده دست شون مدل Aloevera حجم 300...</td>\n",
              "      <td>ضدعفونی کننده</td>\n",
              "      <td>1</td>\n",
              "      <td>1</td>\n",
              "      <td>100.0</td>\n",
              "    </tr>\n",
              "    <tr>\n",
              "      <th>1</th>\n",
              "      <td>1</td>\n",
              "      <td>Redmi 8</td>\n",
              "      <td>با این مبلغ اگه امکانات و ارزش خرید واستون مهم...</td>\n",
              "      <td>[\"رم4\\r\",\"قیمت نسبت به سایر برندها\\r\",\"طراحی و...</td>\n",
              "      <td>[\"نداشتن هندزفری\"]</td>\n",
              "      <td>گوشی موبایل شیائومی مدل Redmi 8 M1908C3IG دو س...</td>\n",
              "      <td>گوشی موبایل</td>\n",
              "      <td>1</td>\n",
              "      <td>1</td>\n",
              "      <td>80.0</td>\n",
              "    </tr>\n",
              "    <tr>\n",
              "      <th>2</th>\n",
              "      <td>2</td>\n",
              "      <td>عالی</td>\n",
              "      <td>خوبه فقط کج و کوله بدستم رسید ولی پسرم خیلی خو...</td>\n",
              "      <td>NaN</td>\n",
              "      <td>NaN</td>\n",
              "      <td>ماسک کودک طرح سگ نگهبان مدل رابل</td>\n",
              "      <td>ایفای نقش</td>\n",
              "      <td>1</td>\n",
              "      <td>1</td>\n",
              "      <td>100.0</td>\n",
              "    </tr>\n",
              "    <tr>\n",
              "      <th>3</th>\n",
              "      <td>3</td>\n",
              "      <td>NaN</td>\n",
              "      <td>در کل خوب بود ولی متاسفانه درب محصول شکسته بود...</td>\n",
              "      <td>NaN</td>\n",
              "      <td>NaN</td>\n",
              "      <td>مایع ضدعفونی کننده میوه و سبزیجات من مدل WT حج...</td>\n",
              "      <td>ضدعفونی کننده سطوح</td>\n",
              "      <td>1</td>\n",
              "      <td>1</td>\n",
              "      <td>70.0</td>\n",
              "    </tr>\n",
              "    <tr>\n",
              "      <th>4</th>\n",
              "      <td>4</td>\n",
              "      <td>NaN</td>\n",
              "      <td>من که خیلی باهاش حال کردم فقط من که همیشه L می...</td>\n",
              "      <td>NaN</td>\n",
              "      <td>NaN</td>\n",
              "      <td>تی شرت آستین کوتاه مردانه باینت کد 323-1 btt</td>\n",
              "      <td>تی شرت و پولوشرت مردانه</td>\n",
              "      <td>1</td>\n",
              "      <td>1</td>\n",
              "      <td>72.0</td>\n",
              "    </tr>\n",
              "  </tbody>\n",
              "</table>\n",
              "</div>"
            ],
            "text/plain": [
              "   id    title  ... verification_status   rate\n",
              "0   0      NaN  ...                   1  100.0\n",
              "1   1  Redmi 8  ...                   1   80.0\n",
              "2   2     عالی  ...                   1  100.0\n",
              "3   3      NaN  ...                   1   70.0\n",
              "4   4      NaN  ...                   1   72.0\n",
              "\n",
              "[5 rows x 10 columns]"
            ]
          },
          "metadata": {
            "tags": []
          },
          "execution_count": 7
        }
      ]
    },
    {
      "cell_type": "code",
      "metadata": {
        "id": "9vjTTyEpPM7V"
      },
      "source": [
        ""
      ],
      "execution_count": null,
      "outputs": []
    },
    {
      "cell_type": "markdown",
      "metadata": {
        "id": "jWW8T3CPPTCU"
      },
      "source": [
        "Our dataset have 6 object data type and 3 float.\n",
        "\n",
        "we have to categorical data(object data type) to numerial "
      ]
    },
    {
      "cell_type": "code",
      "metadata": {
        "colab": {
          "base_uri": "https://localhost:8080/"
        },
        "id": "6B-TueBVhExu",
        "outputId": "40757fb4-0c73-491d-9382-6ceaa858b375"
      },
      "source": [
        "df_train.info()"
      ],
      "execution_count": 8,
      "outputs": [
        {
          "output_type": "stream",
          "text": [
            "<class 'pandas.core.frame.DataFrame'>\n",
            "RangeIndex: 264399 entries, 0 to 264398\n",
            "Data columns (total 10 columns):\n",
            " #   Column               Non-Null Count   Dtype  \n",
            "---  ------               --------------   -----  \n",
            " 0   id                   264399 non-null  int64  \n",
            " 1   title                178831 non-null  object \n",
            " 2   comment              262732 non-null  object \n",
            " 3   advantages           45687 non-null   object \n",
            " 4   disadvantages        28483 non-null   object \n",
            " 5   title_fa_product     264399 non-null  object \n",
            " 6   title_fa_category    264399 non-null  object \n",
            " 7   is_buyer             264399 non-null  int64  \n",
            " 8   verification_status  264399 non-null  int64  \n",
            " 9   rate                 264399 non-null  float64\n",
            "dtypes: float64(1), int64(3), object(6)\n",
            "memory usage: 20.2+ MB\n"
          ],
          "name": "stdout"
        }
      ]
    },
    {
      "cell_type": "markdown",
      "metadata": {
        "id": "K9S3hh9EPiDL"
      },
      "source": [
        "Looking for null columns to decide what we have to do for that columns. Many rows in title, advantages and disadvantages is null.\n",
        "Generally, we have 3 option when we face to null value in our dataset:\n",
        "  1.   drop entire the column\n",
        "  2.   drop rows that have null value\n",
        "  3.   mean or median for null columns\n",
        "  \n",
        "we decided to drop advantages and disadvanrages column and drop row which their comment and title columns are null\n",
        "\n",
        "\n",
        "\n"
      ]
    },
    {
      "cell_type": "code",
      "metadata": {
        "colab": {
          "base_uri": "https://localhost:8080/"
        },
        "id": "-IQWM1WOhTNV",
        "outputId": "370645d9-e432-4ba0-b239-c7df4837eba5"
      },
      "source": [
        "df_train.isnull().sum()"
      ],
      "execution_count": 9,
      "outputs": [
        {
          "output_type": "execute_result",
          "data": {
            "text/plain": [
              "id                          0\n",
              "title                   85568\n",
              "comment                  1667\n",
              "advantages             218712\n",
              "disadvantages          235916\n",
              "title_fa_product            0\n",
              "title_fa_category           0\n",
              "is_buyer                    0\n",
              "verification_status         0\n",
              "rate                        0\n",
              "dtype: int64"
            ]
          },
          "metadata": {
            "tags": []
          },
          "execution_count": 9
        }
      ]
    },
    {
      "cell_type": "markdown",
      "metadata": {
        "id": "_qqUS7c5iOah"
      },
      "source": [
        "## Preprocessing Data"
      ]
    },
    {
      "cell_type": "code",
      "metadata": {
        "id": "-gJmre-ZiKJy"
      },
      "source": [
        "df_train = df_train.dropna(subset=['comment', 'title_fa_category', 'is_buyer', 'verification_status', 'rate'])\n",
        "df_train = df_train.drop(columns='id')"
      ],
      "execution_count": 10,
      "outputs": []
    },
    {
      "cell_type": "code",
      "metadata": {
        "id": "17bY43eHRjQO"
      },
      "source": [
        ""
      ],
      "execution_count": null,
      "outputs": []
    },
    {
      "cell_type": "markdown",
      "metadata": {
        "id": "vRQ9fgBqRgaP"
      },
      "source": [
        "Now we change categorical features into numerical to use in our model.\n",
        "As you know Machine learning models based on Math, Linear Algebra and statistic so we can't send categorical features into them.\n",
        "In next few line we label our features that have unique and repeatable values"
      ]
    },
    {
      "cell_type": "code",
      "metadata": {
        "id": "opcbn1LniTzJ"
      },
      "source": [
        "from sklearn.preprocessing import LabelEncoder\n",
        "encoder = LabelEncoder()"
      ],
      "execution_count": 11,
      "outputs": []
    },
    {
      "cell_type": "code",
      "metadata": {
        "id": "N6tgarzWi3q4"
      },
      "source": [
        "df_train['title_fa_product'] = encoder.fit_transform(df_train['title_fa_product'])"
      ],
      "execution_count": 12,
      "outputs": []
    },
    {
      "cell_type": "code",
      "metadata": {
        "id": "0SL3LG-MjS5g"
      },
      "source": [
        "df_train['title_fa_category'] = encoder.fit_transform(df_train['title_fa_category'])"
      ],
      "execution_count": 14,
      "outputs": []
    },
    {
      "cell_type": "markdown",
      "metadata": {
        "id": "gvC-fBcYSTYz"
      },
      "source": [
        "In next step, we try to find new aspect of our data and create new features that called feature engineering."
      ]
    },
    {
      "cell_type": "code",
      "metadata": {
        "id": "vIi0-c5_jVZf"
      },
      "source": [
        "df_train['word_count'] = df_train.comment.apply(lambda x: len(str(x).split()))\n",
        "df_train['char_count'] = df_train.comment.apply(lambda x: len(str(x)))\n",
        "df_train['unique_word_count'] = df_train.comment.apply(lambda x:len(set(str(x).split())))"
      ],
      "execution_count": 15,
      "outputs": []
    },
    {
      "cell_type": "markdown",
      "metadata": {
        "id": "CzqV_e46SsiZ"
      },
      "source": [
        "plot both verify and not verify comment to find a pattern"
      ]
    },
    {
      "cell_type": "code",
      "metadata": {
        "id": "k5ULF1LWkXI6"
      },
      "source": [
        "verify = df_train['verification_status'] == 1"
      ],
      "execution_count": 16,
      "outputs": []
    },
    {
      "cell_type": "code",
      "metadata": {
        "colab": {
          "base_uri": "https://localhost:8080/",
          "height": 1000
        },
        "id": "gVRUGUy0jwOn",
        "outputId": "bda241e2-d281-4b11-b5a9-16da71cbe5da"
      },
      "source": [
        "sns.set_style('whitegrid')\n",
        "plt.subplots(ncols=1, nrows = 1, figsize=(20,20), dpi=100)\n",
        "\n",
        "sns.distplot(df_train.loc[~verify]['word_count'],label=\"No verify comments\",  color=\"red\")\n",
        "sns.distplot(df_train.loc[verify]['word_count'], label=\"Verify comments\"  ,color=\"green\")\n",
        "\n",
        "plt.legend()"
      ],
      "execution_count": 17,
      "outputs": [
        {
          "output_type": "stream",
          "text": [
            "/usr/local/lib/python3.6/dist-packages/seaborn/distributions.py:2551: FutureWarning: `distplot` is a deprecated function and will be removed in a future version. Please adapt your code to use either `displot` (a figure-level function with similar flexibility) or `histplot` (an axes-level function for histograms).\n",
            "  warnings.warn(msg, FutureWarning)\n",
            "/usr/local/lib/python3.6/dist-packages/seaborn/distributions.py:2551: FutureWarning: `distplot` is a deprecated function and will be removed in a future version. Please adapt your code to use either `displot` (a figure-level function with similar flexibility) or `histplot` (an axes-level function for histograms).\n",
            "  warnings.warn(msg, FutureWarning)\n"
          ],
          "name": "stderr"
        },
        {
          "output_type": "execute_result",
          "data": {
            "text/plain": [
              "<matplotlib.legend.Legend at 0x7ff64e169a20>"
            ]
          },
          "metadata": {
            "tags": []
          },
          "execution_count": 17
        },
        {
          "output_type": "display_data",
          "data": {
            "image/png": "[encoded data removed]",
            "text/plain": [
              "<Figure size 2000x2000 with 1 Axes>"
            ]
          },
          "metadata": {
            "tags": []
          }
        }
      ]
    },
    {
      "cell_type": "markdown",
      "metadata": {
        "id": "ChYZcjZQpL3K"
      },
      "source": [
        "## Clean comment"
      ]
    },
    {
      "cell_type": "markdown",
      "metadata": {
        "id": "nDmV2nwsUo7M"
      },
      "source": [
        "define text processing to process our comment and clean them.\n",
        "Improving this function cause better cleaning and normalizing our text so it may help better prediction. For example, we ignore bad word."
      ]
    },
    {
      "cell_type": "code",
      "metadata": {
        "id": "Wldo3o1okTOg"
      },
      "source": [
        "def textProcess(txt):\n",
        "    _normalizer = hazm.Normalizer()\n",
        "    txt = _normalizer.normalize(txt)\n",
        "    STOPWORDS = hazm.stopwords_list() + ['یه', 'ک', 'ام' , 'باهاش', 'ب', 'داره', '…', ]\n",
        "    nopunc = [char for char in txt if char not in string.punctuation]\n",
        "    nopunc = ''.join(nopunc)\n",
        "    \n",
        "    return ' '.join([word for word in nopunc.split() if word not in STOPWORDS])"
      ],
      "execution_count": 18,
      "outputs": []
    },
    {
      "cell_type": "code",
      "metadata": {
        "id": "g24bvjhqpRXn"
      },
      "source": [
        "df_train['clean_comment'] = df_train.comment.apply(textProcess)"
      ],
      "execution_count": 19,
      "outputs": []
    },
    {
      "cell_type": "code",
      "metadata": {
        "colab": {
          "base_uri": "https://localhost:8080/",
          "height": 1000
        },
        "id": "BeCX08A2pS4i",
        "outputId": "e5b1677a-9661-4202-810e-061b9ca8b62e"
      },
      "source": [
        "df_train"
      ],
      "execution_count": 20,
      "outputs": [
        {
          "output_type": "execute_result",
          "data": {
            "text/html": [
              "<div>\n",
              "<style scoped>\n",
              "    .dataframe tbody tr th:only-of-type {\n",
              "        vertical-align: middle;\n",
              "    }\n",
              "\n",
              "    .dataframe tbody tr th {\n",
              "        vertical-align: top;\n",
              "    }\n",
              "\n",
              "    .dataframe thead th {\n",
              "        text-align: right;\n",
              "    }\n",
              "</style>\n",
              "<table border=\"1\" class=\"dataframe\">\n",
              "  <thead>\n",
              "    <tr style=\"text-align: right;\">\n",
              "      <th></th>\n",
              "      <th>title</th>\n",
              "      <th>comment</th>\n",
              "      <th>advantages</th>\n",
              "      <th>disadvantages</th>\n",
              "      <th>title_fa_product</th>\n",
              "      <th>title_fa_category</th>\n",
              "      <th>is_buyer</th>\n",
              "      <th>verification_status</th>\n",
              "      <th>rate</th>\n",
              "      <th>word_count</th>\n",
              "      <th>char_count</th>\n",
              "      <th>unique_word_count</th>\n",
              "      <th>clean_comment</th>\n",
              "    </tr>\n",
              "  </thead>\n",
              "  <tbody>\n",
              "    <tr>\n",
              "      <th>0</th>\n",
              "      <td>NaN</td>\n",
              "      <td>مثل بقیه محصولات الکل دار پوست رو خشک نمیکنه</td>\n",
              "      <td>NaN</td>\n",
              "      <td>NaN</td>\n",
              "      <td>4310</td>\n",
              "      <td>325</td>\n",
              "      <td>1</td>\n",
              "      <td>1</td>\n",
              "      <td>100.0</td>\n",
              "      <td>9</td>\n",
              "      <td>44</td>\n",
              "      <td>9</td>\n",
              "      <td>بقیه محصولات الکل پوست خشک نمیکنه</td>\n",
              "    </tr>\n",
              "    <tr>\n",
              "      <th>1</th>\n",
              "      <td>Redmi 8</td>\n",
              "      <td>با این مبلغ اگه امکانات و ارزش خرید واستون مهم...</td>\n",
              "      <td>[\"رم4\\r\",\"قیمت نسبت به سایر برندها\\r\",\"طراحی و...</td>\n",
              "      <td>[\"نداشتن هندزفری\"]</td>\n",
              "      <td>5317</td>\n",
              "      <td>655</td>\n",
              "      <td>1</td>\n",
              "      <td>1</td>\n",
              "      <td>80.0</td>\n",
              "      <td>18</td>\n",
              "      <td>88</td>\n",
              "      <td>16</td>\n",
              "      <td>مبلغ اگه امکانات ارزش خرید واستون مهمه گوشی عا...</td>\n",
              "    </tr>\n",
              "    <tr>\n",
              "      <th>2</th>\n",
              "      <td>عالی</td>\n",
              "      <td>خوبه فقط کج و کوله بدستم رسید ولی پسرم خیلی خو...</td>\n",
              "      <td>NaN</td>\n",
              "      <td>NaN</td>\n",
              "      <td>2884</td>\n",
              "      <td>63</td>\n",
              "      <td>1</td>\n",
              "      <td>1</td>\n",
              "      <td>100.0</td>\n",
              "      <td>19</td>\n",
              "      <td>86</td>\n",
              "      <td>19</td>\n",
              "      <td>خوبه کج کوله بدستم پسرم خوشحال لطفا بسته توجه بشه</td>\n",
              "    </tr>\n",
              "    <tr>\n",
              "      <th>3</th>\n",
              "      <td>NaN</td>\n",
              "      <td>در کل خوب بود ولی متاسفانه درب محصول شکسته بود...</td>\n",
              "      <td>NaN</td>\n",
              "      <td>NaN</td>\n",
              "      <td>3044</td>\n",
              "      <td>326</td>\n",
              "      <td>1</td>\n",
              "      <td>1</td>\n",
              "      <td>70.0</td>\n",
              "      <td>18</td>\n",
              "      <td>85</td>\n",
              "      <td>17</td>\n",
              "      <td>درب محصول شکسته مقداریش داخل بسته خالی</td>\n",
              "    </tr>\n",
              "    <tr>\n",
              "      <th>4</th>\n",
              "      <td>NaN</td>\n",
              "      <td>من که خیلی باهاش حال کردم فقط من که همیشه L می...</td>\n",
              "      <td>NaN</td>\n",
              "      <td>NaN</td>\n",
              "      <td>864</td>\n",
              "      <td>128</td>\n",
              "      <td>1</td>\n",
              "      <td>1</td>\n",
              "      <td>72.0</td>\n",
              "      <td>21</td>\n",
              "      <td>96</td>\n",
              "      <td>19</td>\n",
              "      <td>L میپوشیدم اینبار M گرفتم لانگه اندازه ش بزرگتره</td>\n",
              "    </tr>\n",
              "    <tr>\n",
              "      <th>...</th>\n",
              "      <td>...</td>\n",
              "      <td>...</td>\n",
              "      <td>...</td>\n",
              "      <td>...</td>\n",
              "      <td>...</td>\n",
              "      <td>...</td>\n",
              "      <td>...</td>\n",
              "      <td>...</td>\n",
              "      <td>...</td>\n",
              "      <td>...</td>\n",
              "      <td>...</td>\n",
              "      <td>...</td>\n",
              "      <td>...</td>\n",
              "    </tr>\n",
              "    <tr>\n",
              "      <th>264394</th>\n",
              "      <td>موز</td>\n",
              "      <td>خوبه و راضی کننده</td>\n",
              "      <td>NaN</td>\n",
              "      <td>NaN</td>\n",
              "      <td>3307</td>\n",
              "      <td>479</td>\n",
              "      <td>1</td>\n",
              "      <td>1</td>\n",
              "      <td>90.0</td>\n",
              "      <td>4</td>\n",
              "      <td>17</td>\n",
              "      <td>4</td>\n",
              "      <td>خوبه راضی</td>\n",
              "    </tr>\n",
              "    <tr>\n",
              "      <th>264395</th>\n",
              "      <td>کش</td>\n",
              "      <td>رنگ بندی زیبا و قیمت مناسبی دارد</td>\n",
              "      <td>NaN</td>\n",
              "      <td>NaN</td>\n",
              "      <td>4864</td>\n",
              "      <td>61</td>\n",
              "      <td>1</td>\n",
              "      <td>1</td>\n",
              "      <td>60.0</td>\n",
              "      <td>7</td>\n",
              "      <td>32</td>\n",
              "      <td>7</td>\n",
              "      <td>رنگ زیبا قیمت مناسبی</td>\n",
              "    </tr>\n",
              "    <tr>\n",
              "      <th>264396</th>\n",
              "      <td>خوب بود</td>\n",
              "      <td>ولی بیشتر آف بذارید</td>\n",
              "      <td>NaN</td>\n",
              "      <td>NaN</td>\n",
              "      <td>3509</td>\n",
              "      <td>489</td>\n",
              "      <td>1</td>\n",
              "      <td>1</td>\n",
              "      <td>0.0</td>\n",
              "      <td>4</td>\n",
              "      <td>19</td>\n",
              "      <td>4</td>\n",
              "      <td>آف بذارید</td>\n",
              "    </tr>\n",
              "    <tr>\n",
              "      <th>264397</th>\n",
              "      <td>ارزش خرید داره</td>\n",
              "      <td>کلا بد نیست</td>\n",
              "      <td>NaN</td>\n",
              "      <td>NaN</td>\n",
              "      <td>2099</td>\n",
              "      <td>285</td>\n",
              "      <td>1</td>\n",
              "      <td>1</td>\n",
              "      <td>60.0</td>\n",
              "      <td>3</td>\n",
              "      <td>11</td>\n",
              "      <td>3</td>\n",
              "      <td>کلا بد</td>\n",
              "    </tr>\n",
              "    <tr>\n",
              "      <th>264398</th>\n",
              "      <td>خوبه</td>\n",
              "      <td>کار راه اندازه و قیمتش مفته</td>\n",
              "      <td>NaN</td>\n",
              "      <td>NaN</td>\n",
              "      <td>2211</td>\n",
              "      <td>287</td>\n",
              "      <td>1</td>\n",
              "      <td>1</td>\n",
              "      <td>60.0</td>\n",
              "      <td>6</td>\n",
              "      <td>27</td>\n",
              "      <td>6</td>\n",
              "      <td>کار اندازه قیمتش مفته</td>\n",
              "    </tr>\n",
              "  </tbody>\n",
              "</table>\n",
              "<p>262732 rows × 13 columns</p>\n",
              "</div>"
            ],
            "text/plain": [
              "                 title  ...                                      clean_comment\n",
              "0                  NaN  ...                  بقیه محصولات الکل پوست خشک نمیکنه\n",
              "1              Redmi 8  ...  مبلغ اگه امکانات ارزش خرید واستون مهمه گوشی عا...\n",
              "2                 عالی  ...  خوبه کج کوله بدستم پسرم خوشحال لطفا بسته توجه بشه\n",
              "3                  NaN  ...             درب محصول شکسته مقداریش داخل بسته خالی\n",
              "4                  NaN  ...   L میپوشیدم اینبار M گرفتم لانگه اندازه ش بزرگتره\n",
              "...                ...  ...                                                ...\n",
              "264394             موز  ...                                          خوبه راضی\n",
              "264395              کش  ...                               رنگ زیبا قیمت مناسبی\n",
              "264396         خوب بود  ...                                          آف بذارید\n",
              "264397  ارزش خرید داره  ...                                             کلا بد\n",
              "264398            خوبه  ...                              کار اندازه قیمتش مفته\n",
              "\n",
              "[262732 rows x 13 columns]"
            ]
          },
          "metadata": {
            "tags": []
          },
          "execution_count": 20
        }
      ]
    },
    {
      "cell_type": "markdown",
      "metadata": {
        "id": "x0bACYKHVV34"
      },
      "source": [
        "From this line we use clean comment feature to train our model. we count 50 of most repeated word to see which word most used in verified and not verified comment"
      ]
    },
    {
      "cell_type": "code",
      "metadata": {
        "id": "wqt2G__upidL",
        "colab": {
          "base_uri": "https://localhost:8080/"
        },
        "outputId": "b071a5fe-15b2-4122-d789-cf412ef3aa98"
      },
      "source": [
        "from collections import Counter\n",
        "verify_count = Counter()\n",
        "words = df_train[verify].clean_comment.apply(lambda x: [word for word in x.split()])\n",
        "for word in words:\n",
        "    verify_count.update(word)\n",
        "    \n",
        "print(verify_count.most_common(50))"
      ],
      "execution_count": 21,
      "outputs": [
        {
          "output_type": "stream",
          "text": [
            "[('خوبه', 40269), ('کیفیت', 28200), ('قیمت', 26916), ('استفاده', 21803), ('هست', 18852), ('راضی', 16777), ('قیمتش', 16333), ('عالیه', 16118), ('خریدم', 14411), ('میشه', 14288), ('میکنم', 14092), ('واقعا', 12920), ('گوشی', 12433), ('خرید', 11579), ('پیشنهاد', 9972), ('اصلا', 9399), ('کالا', 9349), ('کار', 8950), ('رنگ', 8774), ('دیجی', 8630), ('جنس', 8575), ('نداره', 8533), ('میکنه', 8129), ('شگفت', 7940), ('انگیز', 7744), ('راضیم', 7724), ('بودم', 7455), ('باشه', 6954), ('خوبیه', 6954), ('محصول', 6913), ('ارزش', 6866), ('بد', 6664), ('بسته', 6536), ('گرفتم', 6533), ('دیگه', 6437), ('ازش', 6337), ('سفارش', 6064), ('بوی', 5742), ('توجه', 5661), ('خوش', 5591), ('توی', 5514), ('حتما', 5490), ('بخرید', 5296), ('اگه', 5087), ('جنسش', 5064), ('هستم', 5006), ('مناسبه', 4915), ('ممنون', 4731), ('کیفیتش', 4580), ('اندازه', 4504)]\n"
          ],
          "name": "stdout"
        }
      ]
    },
    {
      "cell_type": "code",
      "metadata": {
        "colab": {
          "base_uri": "https://localhost:8080/"
        },
        "id": "XxKXSD5kVqOf",
        "outputId": "19bfe87a-073b-4b64-8f0e-c9d362d3bc37"
      },
      "source": [
        "\n",
        "notverify_count = Counter()\n",
        "words = df_train[~verify].clean_comment.apply(lambda x: [word for word in x.split()])\n",
        "for word in words:\n",
        "    notverify_count.update(word)\n",
        "    \n",
        "print(notverify_count.most_common(50))"
      ],
      "execution_count": 22,
      "outputs": [
        {
          "output_type": "stream",
          "text": [
            "[('کالا', 2108), ('دیجی', 1847), ('گوشی', 1461), ('قیمت', 1289), ('خرید', 951), ('میشه', 828), ('واقعا', 801), ('هست', 760), ('سفارش', 730), ('استفاده', 725), ('دیگه', 703), ('سلام', 658), ('اصلا', 654), ('خریدم', 599), ('ارسال', 598), ('لطفا', 550), ('تومن', 539), ('محصول', 500), ('روز', 475), ('الان', 459), ('کیفیت', 454), ('دادم', 441), ('اگه', 426), ('باشه', 403), ('نداره', 393), ('میکنم', 382), ('پول', 381), ('قیمتش', 369), ('بسته', 356), ('توی', 355), ('کار', 351), ('جنس', 349), ('دوستان', 347), ('تحویل', 343), ('دستم', 341), ('دلار', 327), ('نکردم', 324), ('ندارم', 323), ('اون', 310), ('میلیون', 302), ('خوبه', 295), ('دیجیکالا', 289), ('میکنه', 285), ('رنگ', 283), ('ساعت', 278), ('دارم', 270), ('موجود', 258), ('دست', 258), ('پایین', 252), ('بشه', 252)]\n"
          ],
          "name": "stdout"
        }
      ]
    },
    {
      "cell_type": "markdown",
      "metadata": {
        "id": "uySJ96ltVyae"
      },
      "source": [
        "## Stratified and Modeling"
      ]
    },
    {
      "cell_type": "code",
      "metadata": {
        "id": "BvqxsgKZVwOu"
      },
      "source": [
        "X = df_train.clean_comment\n",
        "y = df_train.verification_status"
      ],
      "execution_count": 23,
      "outputs": []
    },
    {
      "cell_type": "code",
      "metadata": {
        "id": "ZMQJ_imSWOzW"
      },
      "source": [
        "from sklearn.model_selection import train_test_split\n",
        "X_train, X_test, y_train, y_test = train_test_split(X, y, random_state=1)"
      ],
      "execution_count": 24,
      "outputs": []
    },
    {
      "cell_type": "code",
      "metadata": {
        "id": "7Vd9W7gdWRHW"
      },
      "source": [
        "from sklearn.feature_extraction.text import TfidfTransformer\n",
        "from sklearn.feature_extraction.text import CountVectorizer\n",
        "\n",
        "vec = CountVectorizer()\n",
        "X_train_dtm = vec.fit_transform(X_train)\n",
        "X_test_dtm = vec.transform(X_test)"
      ],
      "execution_count": 25,
      "outputs": []
    },
    {
      "cell_type": "code",
      "metadata": {
        "colab": {
          "base_uri": "https://localhost:8080/"
        },
        "id": "Op3P8jQCWS28",
        "outputId": "55ff92fe-53d4-47d3-aff0-3ecf16a49e8e"
      },
      "source": [
        "tfidf = TfidfTransformer()\n",
        "tfidf.fit_transform(X_train_dtm)"
      ],
      "execution_count": 26,
      "outputs": [
        {
          "output_type": "execute_result",
          "data": {
            "text/plain": [
              "<197049x57763 sparse matrix of type '<class 'numpy.float64'>'\n",
              "\twith 1439102 stored elements in Compressed Sparse Row format>"
            ]
          },
          "metadata": {
            "tags": []
          },
          "execution_count": 26
        }
      ]
    },
    {
      "cell_type": "markdown",
      "metadata": {
        "id": "OKg6PwOvWVc9"
      },
      "source": [
        "### Modeling\n",
        "we train our dataset on just one model. train it with RandomForest, SGDClassifier and check confusion matrix, recall, percision and f1"
      ]
    },
    {
      "cell_type": "code",
      "metadata": {
        "colab": {
          "base_uri": "https://localhost:8080/"
        },
        "id": "BkYuVOXUWYI5",
        "outputId": "d208671c-a3a3-47bc-8ca9-612074a87f4b"
      },
      "source": [
        "from sklearn.naive_bayes import MultinomialNB\n",
        "nb = MultinomialNB()\n",
        "nb.fit(X_train_dtm, y_train)"
      ],
      "execution_count": 27,
      "outputs": [
        {
          "output_type": "execute_result",
          "data": {
            "text/plain": [
              "MultinomialNB(alpha=1.0, class_prior=None, fit_prior=True)"
            ]
          },
          "metadata": {
            "tags": []
          },
          "execution_count": 27
        }
      ]
    },
    {
      "cell_type": "code",
      "metadata": {
        "id": "YLd26NEsWbeE"
      },
      "source": [
        "nb_pred = nb.predict(X_test_dtm)"
      ],
      "execution_count": 28,
      "outputs": []
    },
    {
      "cell_type": "code",
      "metadata": {
        "colab": {
          "base_uri": "https://localhost:8080/"
        },
        "id": "uKYyG_QfWc1F",
        "outputId": "80a91f3d-e50b-455c-a619-b7a51a363cba"
      },
      "source": [
        "from sklearn import metrics\n",
        "print(metrics.accuracy_score(y_test, nb_pred))"
      ],
      "execution_count": 29,
      "outputs": [
        {
          "output_type": "stream",
          "text": [
            "0.9721541342508716\n"
          ],
          "name": "stdout"
        }
      ]
    },
    {
      "cell_type": "markdown",
      "metadata": {
        "id": "A0T3fkksWgH0"
      },
      "source": [
        "%97 accuracy ??!!"
      ]
    },
    {
      "cell_type": "code",
      "metadata": {
        "colab": {
          "base_uri": "https://localhost:8080/"
        },
        "id": "-j7TguVVWezk",
        "outputId": "259001a2-889c-4246-f343-98bfa1b03d91"
      },
      "source": [
        "metrics.confusion_matrix(y_test, nb_pred)"
      ],
      "execution_count": 30,
      "outputs": [
        {
          "output_type": "execute_result",
          "data": {
            "text/plain": [
              "array([[  796,  1295],\n",
              "       [  534, 63058]])"
            ]
          },
          "metadata": {
            "tags": []
          },
          "execution_count": 30
        }
      ]
    },
    {
      "cell_type": "code",
      "metadata": {
        "colab": {
          "base_uri": "https://localhost:8080/"
        },
        "id": "w_gUI7qvWmb0",
        "outputId": "ad7d00f2-1ab6-4d19-cfb0-1ac6a358022b"
      },
      "source": [
        "X_test[y_test < nb_pred]"
      ],
      "execution_count": 31,
      "outputs": [
        {
          "output_type": "execute_result",
          "data": {
            "text/plain": [
              "39873                                         استفاده نکردم\n",
              "29765                    ۳۰هزار تومان می‌ارزه اونم تمیز گاز\n",
              "22160     کرم سفارش دادم سفید ارسال برام واقعا انگار دیگ...\n",
              "55854     نمیشه دیجی کالا گرون زده تخفیف گرون‌تر داروخان...\n",
              "10805                                       😂😂😂😂😂😂😂😂😂😂😂😂😂😂😂\n",
              "                                ...                        \n",
              "161727    گوشی هست تلفن همراه هست موبایل هست هست گوشی خر...\n",
              "228813    الان دستم باکسش اصلا پلمپ نداشت هولوگرامش بود،...\n",
              "106157    اسباب بازی تاش شکست تیغشم درد پوست کندن خیار ن...\n",
              "63914                                                مممممم\n",
              "149642    گوشی رنج قیمت ارزش خرید نداره صبر بازم صبر قیم...\n",
              "Name: clean_comment, Length: 1295, dtype: object"
            ]
          },
          "metadata": {
            "tags": []
          },
          "execution_count": 31
        }
      ]
    },
    {
      "cell_type": "code",
      "metadata": {
        "colab": {
          "base_uri": "https://localhost:8080/"
        },
        "id": "lSekQVibWo7s",
        "outputId": "c2d50724-fca2-4241-a71e-a2c99733e493"
      },
      "source": [
        "X_test[y_test > nb_pred]"
      ],
      "execution_count": 32,
      "outputs": [
        {
          "output_type": "execute_result",
          "data": {
            "text/plain": [
              "163582    بهتره سلامتیتون اهمیت بدید پول اب لیمو جه جلو ...\n",
              "155811    اقا کاری نداریم کی چی دوس کمپانی برنده گوشیشم ...\n",
              "234109    سلام دوستان الان a۷۱ رم ۸ دارم قیمت گوشی الان ...\n",
              "259177           کفش خوبیست پرداخت درب منزل رافعال کنیدلطفا\n",
              "217482    الان کیلویی ۱۳ هزار ۵۰۰ تومن هست ۱۰‌ کیلویی ۱۳...\n",
              "                                ...                        \n",
              "108601                           بدلیل عودت کالا نظری ندارم\n",
              "195475    خرید محصول مشکل آب پاش میخواستم برام تعویض کنن...\n",
              "168344         لطفا موجود کنید، خواستم سفارش بدم دیدم موجود\n",
              "98401     قیمت گران جنس موقع سفارش زده ۱۴۹۰۰ موقع واریز ...\n",
              "54544     لطفا کالاهایی سایت میذارید اونی ارسال میکنید باشه\n",
              "Name: clean_comment, Length: 534, dtype: object"
            ]
          },
          "metadata": {
            "tags": []
          },
          "execution_count": 32
        }
      ]
    },
    {
      "cell_type": "code",
      "metadata": {
        "colab": {
          "base_uri": "https://localhost:8080/"
        },
        "id": "zhAVvFuvWrcc",
        "outputId": "da91f140-d74d-41d3-e787-e69fb92977a1"
      },
      "source": [
        "y_pred_broba = nb.predict_proba(X_test_dtm)[:, 1]\n",
        "y_pred_broba"
      ],
      "execution_count": 33,
      "outputs": [
        {
          "output_type": "execute_result",
          "data": {
            "text/plain": [
              "array([0.99999228, 0.99997463, 0.99960407, ..., 0.99013149, 0.99999996,\n",
              "       0.91249175])"
            ]
          },
          "metadata": {
            "tags": []
          },
          "execution_count": 33
        }
      ]
    },
    {
      "cell_type": "code",
      "metadata": {
        "colab": {
          "base_uri": "https://localhost:8080/"
        },
        "id": "FX_8aEA8Wsyd",
        "outputId": "aae3d2a5-6087-4809-a8a7-abf016a912a1"
      },
      "source": [
        "metrics.precision_score(y_test, nb_pred)"
      ],
      "execution_count": 34,
      "outputs": [
        {
          "output_type": "execute_result",
          "data": {
            "text/plain": [
              "0.9798766180286855"
            ]
          },
          "metadata": {
            "tags": []
          },
          "execution_count": 34
        }
      ]
    },
    {
      "cell_type": "code",
      "metadata": {
        "colab": {
          "base_uri": "https://localhost:8080/"
        },
        "id": "vTCH5VcCWtOz",
        "outputId": "ae43587d-bbef-49cb-a890-b891b37f701a"
      },
      "source": [
        "metrics.recall_score(y_test, nb_pred)"
      ],
      "execution_count": 35,
      "outputs": [
        {
          "output_type": "execute_result",
          "data": {
            "text/plain": [
              "0.9916027173229337"
            ]
          },
          "metadata": {
            "tags": []
          },
          "execution_count": 35
        }
      ]
    },
    {
      "cell_type": "code",
      "metadata": {
        "colab": {
          "base_uri": "https://localhost:8080/"
        },
        "id": "B43qJ3GXWvuH",
        "outputId": "fa8bc7d2-a1d3-432f-97a5-eafd8737d984"
      },
      "source": [
        "metrics.f1_score(y_test, nb_pred)"
      ],
      "execution_count": 36,
      "outputs": [
        {
          "output_type": "execute_result",
          "data": {
            "text/plain": [
              "0.985704795029114"
            ]
          },
          "metadata": {
            "tags": []
          },
          "execution_count": 36
        }
      ]
    },
    {
      "cell_type": "markdown",
      "metadata": {
        "id": "Gr-t3VqoXeDr"
      },
      "source": [
        " #### Test our model"
      ]
    },
    {
      "cell_type": "code",
      "metadata": {
        "id": "LFbDUh27XjxL"
      },
      "source": [
        "# abuse and offensive comment. we try to cheat our model with \"ممنون\" word.\n",
        "test_text = [\"دیجی کالا آشغال فروشیه ممنون\"]"
      ],
      "execution_count": 37,
      "outputs": []
    },
    {
      "cell_type": "code",
      "metadata": {
        "id": "xQznAz8sX0sR"
      },
      "source": [
        "test_dtm = vec.transform(test_text)"
      ],
      "execution_count": 38,
      "outputs": []
    },
    {
      "cell_type": "code",
      "metadata": {
        "id": "Yl8RYHclX2ix"
      },
      "source": [
        "result = nb.predict(test_dtm)"
      ],
      "execution_count": 39,
      "outputs": []
    },
    {
      "cell_type": "code",
      "metadata": {
        "colab": {
          "base_uri": "https://localhost:8080/"
        },
        "id": "hhN9NWjfX3wJ",
        "outputId": "101118c6-c876-4935-eab7-15db44a310f7"
      },
      "source": [
        "if result == 0:\n",
        "  print('Not Verify comment')\n",
        "else:\n",
        "  print('verify comment')"
      ],
      "execution_count": 40,
      "outputs": [
        {
          "output_type": "stream",
          "text": [
            "Not Verify comment\n"
          ],
          "name": "stdout"
        }
      ]
    },
    {
      "cell_type": "code",
      "metadata": {
        "colab": {
          "base_uri": "https://localhost:8080/"
        },
        "id": "NH4oilKEgToe",
        "outputId": "941cce77-e4d8-4ff7-8a24-e3e808869c2b"
      },
      "source": [
        "# criticism comment but not abuse.\n",
        "test_text = [\"این مدل گوشی رو من گرفتم ولی راضی نبودم\"]\n",
        "test_dtm = vec.transform(test_text)\n",
        "result = nb.predict(test_dtm)\n",
        "if result == 0:\n",
        "  print('Not Verify comment')\n",
        "else:\n",
        "  print('verify comment')"
      ],
      "execution_count": 42,
      "outputs": [
        {
          "output_type": "stream",
          "text": [
            "verify comment\n"
          ],
          "name": "stdout"
        }
      ]
    },
    {
      "cell_type": "code",
      "metadata": {
        "id": "oHaPkcmVgePu"
      },
      "source": [
        ""
      ],
      "execution_count": null,
      "outputs": []
    }
  ]
}